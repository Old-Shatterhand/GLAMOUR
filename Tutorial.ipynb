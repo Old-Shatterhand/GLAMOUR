{
 "cells": [
  {
   "cell_type": "code",
   "execution_count": 1,
   "id": "fresh-packet",
   "metadata": {},
   "outputs": [
    {
     "name": "stderr",
     "output_type": "stream",
     "text": [
      "Using backend: pytorch\n"
     ]
    }
   ],
   "source": [
    "import os\n",
    "os.environ['CUDA_VISIBLE_DEVICES'] = \"0\"\n",
    "\n",
    "import random\n",
    "from rdkit import Chem\n",
    "from rdkit.Chem import Draw\n",
    "from rdkit.Chem.Draw import IPythonConsole\n",
    "\n",
    "from utils.load_networkx import networkx_feat\n",
    "from utils.macro_dataset import MacroDataset\n",
    "from utils import macro_unsupervised as unsup\n",
    "from utils.macro_supervised import MacroSupervised\n",
    "from utils.macro_attribution import Attribution\n",
    "from utils import plot"
   ]
  },
  {
   "cell_type": "markdown",
   "id": "coated-thesis",
   "metadata": {},
   "source": [
    "**Filepaths**"
   ]
  },
  {
   "cell_type": "markdown",
   "id": "crucial-thought",
   "metadata": {},
   "source": [
    "MON_SMILES : .csv or .txt file of macromolecule monomers\n",
    "<br>\n",
    "BOND_SMILES : .csv or .txt file of macromolecule bonds\n",
    "\n",
    "TXT_DATA_PATH : For dataset, to be used for training\n",
    "<br>\n",
    "DF_PATH : For dataset, to be used for graph labels during training\n",
    "<br>\n",
    "MODEL_PATH : For models, to be used when training to save the model, optimizer, and configuration file\n",
    "<br>\n",
    "FIG_PATH : For plots, to be used when saving ROC-AUC or parity plot figures"
   ]
  },
  {
   "cell_type": "code",
   "execution_count": 2,
   "id": "failing-commitment",
   "metadata": {},
   "outputs": [],
   "source": [
    "MON_SMILES = './tables/SMILES_glycans_monomer.txt'\n",
    "BOND_SMILES = './tables/SMILES_glycans_bond.txt'\n",
    "\n",
    "TXT_DATA_PATH = './dataset/classification/'\n",
    "DF_PATH = './tables/glycobase_immuno_mini.txt'\n",
    "MODEL_PATH = './'\n",
    "FIG_PATH = './'"
   ]
  },
  {
   "cell_type": "markdown",
   "id": "extra-dependence",
   "metadata": {},
   "source": [
    "**Variables**"
   ]
  },
  {
   "cell_type": "markdown",
   "id": "second-variety",
   "metadata": {},
   "source": [
    "FEAT : Type of features for macromolecule monomers and bonds -- fingerprints ('fp') or one-hot encodings ('onehot') (default = 'fp')\n",
    "<br>\n",
    "FP_RADIUS_MON : Radius of topological exploration for monomer fingerprint (default = 3)\n",
    "<br>\n",
    "FP_BITS_MON : Size of fingerprint bit-vector for monomer (default = 128)\n",
    "<br>\n",
    "FP_RADIUS_BOND : Radius of topological exploration for bond fingerprint (default = 3)\n",
    "<br>\n",
    "FP_BITS_BOND : Size of fingerprint bit-vector for bond (default = 16)\n",
    "\n",
    "SEED : Random seed for shuffling dataset (default = 108)\n",
    "<br>\n",
    "TASK : Learning task (classification, regression) (default = 'classification')\n",
    "<br>\n",
    "MODEL : Model architecture for supervised learning (Weave, MPNN, Attentive FP, GCN, GAT) (default = 'Weave')\n",
    "<br>\n",
    "LABELNAME : Name of label to classify (default = 'Immunogenic')\n",
    "<br>\n",
    "SPLIT : Proportion of the dataset to use for training, validation and test (default = '0.8,0.1,0.1')\n",
    "<br>\n",
    "NORM: Normalization method for regression labels -- quantile transform ('qt') or standard scaler ('ss') (default = 'qt')\n",
    "\n",
    "NUM_EPOCHS: Maximum number of epochs allowed for training (default = 1000)\n",
    "<br>\n",
    "NUM_WORKERS: Number of processes for data loading (default: 1)\n",
    "\n",
    "SAVE_MODEL: Whether to save full model file. Model state dict will be saved automatically (default = False)\n",
    "<br>\n",
    "SAVE_OPT: Whether to save optimizer files (default = False)\n",
    "<br>\n",
    "SAVE_CONFIG: Whether to save configuration file (default = False)\n",
    "\n",
    "PLOT_TYPE: Dataset to plot ('val' for validation or 'test' for test)\n",
    "\n",
    "CUSTOM_PARAMS: Dictionary of hyperparameters for model"
   ]
  },
  {
   "cell_type": "code",
   "execution_count": 3,
   "id": "hollywood-royalty",
   "metadata": {},
   "outputs": [],
   "source": [
    "FEAT = 'fp'\n",
    "FP_RADIUS_MON = 3\n",
    "FP_BITS_MON = 128\n",
    "FP_RADIUS_BOND = 3\n",
    "FP_BITS_BOND = 16\n",
    "\n",
    "SEED = 108\n",
    "TASK = 'classification'\n",
    "MODEL = 'AttentiveFP'\n",
    "LABELNAME = 'Immunogenic'\n",
    "SPLIT = '0.6,0.2,0.2'\n",
    "NORM = 'qt'\n",
    "\n",
    "NUM_EPOCHS = 10\n",
    "NUM_WORKERS = 1\n",
    "\n",
    "SAVE_MODEL = False\n",
    "SAVE_OPT = False\n",
    "SAVE_CONFIG = False\n",
    "\n",
    "PLOT_TYPE = 'val'\n",
    "\n",
    "CUSTOM_PARAMS = {}"
   ]
  },
  {
   "cell_type": "markdown",
   "id": "sunrise-devon",
   "metadata": {},
   "source": [
    "**Load featurized NetworkX graphs**"
   ]
  },
  {
   "cell_type": "code",
   "execution_count": 5,
   "id": "signal-holder",
   "metadata": {},
   "outputs": [],
   "source": [
    "NX_GRAPHS = networkx_feat(\n",
    "    TXT_DATA_PATH = TXT_DATA_PATH, \n",
    "    MON_SMILES = MON_SMILES, \n",
    "    BOND_SMILES = BOND_SMILES, \n",
    "    FEAT = FEAT, \n",
    "    FP_RADIUS_MON = FP_RADIUS_MON, \n",
    "    FP_RADIUS_BOND = FP_RADIUS_BOND, \n",
    "    FP_BITS_MON = FP_BITS_MON, \n",
    "    FP_BITS_BOND = FP_BITS_BOND\n",
    ")"
   ]
  },
  {
   "cell_type": "code",
   "execution_count": 6,
   "id": "76709277",
   "metadata": {},
   "outputs": [
    {
     "name": "stdout",
     "output_type": "stream",
     "text": [
      "{0: 'Rha', 1: 'Gal', 2: 'Glc', 3: 'GlcA', 4: 'GalNAc', 5: 'Gal'}\n"
     ]
    },
    {
     "data": {
      "image/png": "[encoded data removed]",
      "text/plain": [
       "<Figure size 432x288 with 1 Axes>"
      ]
     },
     "metadata": {},
     "output_type": "display_data"
    }
   ],
   "source": [
    "plot.graph(NX_GRAPHS['GBID10271'])"
   ]
  },
  {
   "cell_type": "code",
   "execution_count": 24,
   "id": "fc1eeeb1",
   "metadata": {},
   "outputs": [
    {
     "name": "stdout",
     "output_type": "stream",
     "text": [
      "{0: 'Glc', 1: 'QuiNBut', 2: 'Glc', 3: 'GlcOAcA', 4: 'GlcNAc', 5: 'QuiNBut'}\n"
     ]
    },
    {
     "data": {
      "image/png": "[encoded data removed]",
      "text/plain": [
       "<Figure size 432x288 with 1 Axes>"
      ]
     },
     "metadata": {},
     "output_type": "display_data"
    }
   ],
   "source": [
    "plot.graph(NX_GRAPHS['GBID10330'])"
   ]
  },
  {
   "cell_type": "markdown",
   "id": "6789faa7",
   "metadata": {},
   "source": [
    "#### Alignment of 2 arbitrary graphs - Similarity Computation"
   ]
  },
  {
   "cell_type": "code",
   "execution_count": 22,
   "id": "129031a3",
   "metadata": {},
   "outputs": [
    {
     "data": {
      "text/plain": [
       "16.400193805630785"
      ]
     },
     "execution_count": 22,
     "metadata": {},
     "output_type": "execute_result"
    }
   ],
   "source": [
    "unsup.edit_distance(NX_GRAPHS['GBID10271'], NX_GRAPHS['GBID10330'], node_attr = 'h', edge_attr = 'e', upper_bound = 100)"
   ]
  },
  {
   "cell_type": "markdown",
   "id": "52759f5b",
   "metadata": {},
   "source": [
    "#### Unsupervised Learning"
   ]
  },
  {
   "cell_type": "code",
   "execution_count": 9,
   "id": "21065a33",
   "metadata": {},
   "outputs": [],
   "source": [
    "sim_matrix = unsup.similarity_matrix(dict_graphs = NX_GRAPHS)"
   ]
  },
  {
   "cell_type": "code",
   "execution_count": 42,
   "id": "9e0c0849",
   "metadata": {},
   "outputs": [],
   "source": [
    "embeddings = unsup.dimensionality_reduction(\n",
    "    matrix = sim_matrix, \n",
    "    method = 'umap', \n",
    "    n_neighbors=3)"
   ]
  },
  {
   "cell_type": "code",
   "execution_count": 43,
   "id": "1f85085f",
   "metadata": {},
   "outputs": [
    {
     "data": {
      "image/png": "[encoded data removed]",
      "text/plain": [
       "<Figure size 432x288 with 1 Axes>"
      ]
     },
     "metadata": {
      "needs_background": "light"
     },
     "output_type": "display_data"
    }
   ],
   "source": [
    "unsup.plot_embeddings(\n",
    "    embeddings = embeddings, \n",
    "    NX_GRAPHS = NX_GRAPHS, \n",
    "    DF_PATH = DF_PATH, \n",
    "    method = 'UMAP')"
   ]
  },
  {
   "cell_type": "markdown",
   "id": "capital-chess",
   "metadata": {},
   "source": [
    "**Load DGL dataset with labels and masks**"
   ]
  },
  {
   "cell_type": "code",
   "execution_count": 12,
   "id": "logical-history",
   "metadata": {},
   "outputs": [],
   "source": [
    "dgl_dict = MacroDataset(\n",
    "    DF_PATH = DF_PATH, \n",
    "    SEED = SEED, \n",
    "    TASK = TASK, \n",
    "    LABELNAME = LABELNAME, \n",
    "    MODEL = MODEL, \n",
    "    NX_GRAPHS = NX_GRAPHS, \n",
    "    NORM = NORM)"
   ]
  },
  {
   "cell_type": "markdown",
   "id": "specific-overall",
   "metadata": {},
   "source": [
    "#### Supervised learning \n",
    "Training model and obtaining validation and test metrics"
   ]
  },
  {
   "cell_type": "code",
   "execution_count": 13,
   "id": "cultural-situation",
   "metadata": {},
   "outputs": [
    {
     "name": "stdout",
     "output_type": "stream",
     "text": [
      "Directory ./ already exists.\n"
     ]
    }
   ],
   "source": [
    "random.seed(SEED)\n",
    "\n",
    "macro_supervised = MacroSupervised(\n",
    "    MacroDataset = dgl_dict, \n",
    "    MON_SMILES = MON_SMILES, \n",
    "    BOND_SMILES = BOND_SMILES, \n",
    "    FEAT = FEAT, \n",
    "    FP_BITS_MON = FP_BITS_MON, \n",
    "    FP_BITS_BOND = FP_BITS_BOND, \n",
    "    SEED = SEED, \n",
    "    MODEL = MODEL, \n",
    "    SPLIT = SPLIT, \n",
    "    NUM_EPOCHS = NUM_EPOCHS, \n",
    "    NUM_WORKERS = NUM_WORKERS, \n",
    "    CUSTOM_PARAMS = CUSTOM_PARAMS, \n",
    "    MODEL_PATH = MODEL_PATH, \n",
    "    SAVE_MODEL = SAVE_MODEL, \n",
    "    SAVE_OPT = SAVE_OPT, \n",
    "    SAVE_CONFIG = SAVE_CONFIG)"
   ]
  },
  {
   "cell_type": "code",
   "execution_count": 14,
   "id": "overhead-steering",
   "metadata": {},
   "outputs": [
    {
     "name": "stdout",
     "output_type": "stream",
     "text": [
      "epoch 1/10, batch 1/1, loss 0.6947\n",
      "epoch 1/10, validation loss 0.6874, best validation loss 0.6874, validation ROC-AUC 0.6667, validation F1 0.7500, validation recall 0.7500, validation precision 0.7500, validation accuracy 0.7500\n",
      "epoch 2/10, batch 1/1, loss 0.6780\n",
      "EarlyStopping counter: 1 out of 30\n",
      "epoch 2/10, validation loss 0.7039, best validation loss 0.6874, validation ROC-AUC 1.0000, validation F1 0.2500, validation recall 0.2500, validation precision 0.2500, validation accuracy 0.2500\n",
      "epoch 3/10, batch 1/1, loss 0.6851\n",
      "EarlyStopping counter: 2 out of 30\n",
      "epoch 3/10, validation loss 0.7225, best validation loss 0.6874, validation ROC-AUC 1.0000, validation F1 0.2500, validation recall 0.2500, validation precision 0.2500, validation accuracy 0.2500\n",
      "epoch 4/10, batch 1/1, loss 0.6811\n",
      "EarlyStopping counter: 3 out of 30\n",
      "epoch 4/10, validation loss 0.7402, best validation loss 0.6874, validation ROC-AUC 1.0000, validation F1 0.2500, validation recall 0.2500, validation precision 0.2500, validation accuracy 0.2500\n",
      "epoch 5/10, batch 1/1, loss 0.6527\n",
      "EarlyStopping counter: 4 out of 30\n",
      "epoch 5/10, validation loss 0.7623, best validation loss 0.6874, validation ROC-AUC 1.0000, validation F1 0.2500, validation recall 0.2500, validation precision 0.2500, validation accuracy 0.2500\n",
      "epoch 6/10, batch 1/1, loss 0.6459\n",
      "EarlyStopping counter: 5 out of 30\n",
      "epoch 6/10, validation loss 0.7864, best validation loss 0.6874, validation ROC-AUC 1.0000, validation F1 0.2500, validation recall 0.2500, validation precision 0.2500, validation accuracy 0.2500\n",
      "epoch 7/10, batch 1/1, loss 0.6285\n",
      "EarlyStopping counter: 6 out of 30\n",
      "epoch 7/10, validation loss 0.8124, best validation loss 0.6874, validation ROC-AUC 1.0000, validation F1 0.2500, validation recall 0.2500, validation precision 0.2500, validation accuracy 0.2500\n",
      "epoch 8/10, batch 1/1, loss 0.6550\n",
      "EarlyStopping counter: 7 out of 30\n",
      "epoch 8/10, validation loss 0.8294, best validation loss 0.6874, validation ROC-AUC 1.0000, validation F1 0.2500, validation recall 0.2500, validation precision 0.2500, validation accuracy 0.2500\n",
      "epoch 9/10, batch 1/1, loss 0.6409\n",
      "EarlyStopping counter: 8 out of 30\n",
      "epoch 9/10, validation loss 0.8246, best validation loss 0.6874, validation ROC-AUC 1.0000, validation F1 0.2500, validation recall 0.2500, validation precision 0.2500, validation accuracy 0.2500\n",
      "epoch 10/10, batch 1/1, loss 0.6561\n",
      "EarlyStopping counter: 9 out of 30\n",
      "epoch 10/10, validation loss 0.8060, best validation loss 0.6874, validation ROC-AUC 1.0000, validation F1 0.2500, validation recall 0.2500, validation precision 0.2500, validation accuracy 0.2500\n",
      "best val loss 0.6874, best val ROC-AUC 0.6667, best val F1 0.7500, best val recall 0.7500, best val precision 0.7500, best val accuracy 0.7500\n",
      "best val loss 0.6653, best val ROC-AUC 1.0000, best val F1 1.0000, best val recall 1.0000, best val precision 1.0000, best val accuracy 1.0000\n",
      "\n",
      "Best Validation Metrics:\n",
      "ROC-AUC 0.6667\n",
      "F1 0.7500\n",
      "recall 0.7500\n",
      "precision 0.7500\n",
      "accuracy 0.7500\n",
      "\n",
      "Test Metrics:\n",
      "ROC-AUC 1.0000\n",
      "F1 1.0000\n",
      "recall 1.0000\n",
      "precision 1.0000\n",
      "accuracy 1.0000\n"
     ]
    }
   ],
   "source": [
    "macro_supervised.main()"
   ]
  },
  {
   "cell_type": "code",
   "execution_count": 15,
   "id": "13aad210",
   "metadata": {},
   "outputs": [
    {
     "data": {
      "image/png": "[encoded data removed]",
      "text/plain": [
       "<Figure size 432x288 with 1 Axes>"
      ]
     },
     "metadata": {
      "needs_background": "light"
     },
     "output_type": "display_data"
    },
    {
     "data": {
      "text/plain": [
       "<Figure size 432x288 with 0 Axes>"
      ]
     },
     "metadata": {},
     "output_type": "display_data"
    }
   ],
   "source": [
    "macro_supervised.rocauc_plot('test', './')"
   ]
  },
  {
   "cell_type": "markdown",
   "id": "ff29cf92",
   "metadata": {},
   "source": [
    "#### Attribution"
   ]
  },
  {
   "cell_type": "code",
   "execution_count": 16,
   "id": "08e1e571",
   "metadata": {},
   "outputs": [],
   "source": [
    "random.seed(SEED)\n",
    "input_graph = dgl_dict.graphs[0]\n",
    "\n",
    "attribution = Attribution(\n",
    "    model_name = MODEL, \n",
    "    attribution_type = 'integrated_gradients')\n",
    "\n",
    "attribution.calculate_attribution(\n",
    "    model_instance = macro_supervised.model, \n",
    "    input_graph = input_graph)"
   ]
  },
  {
   "cell_type": "code",
   "execution_count": 17,
   "id": "aa06fabd",
   "metadata": {},
   "outputs": [
    {
     "name": "stdout",
     "output_type": "stream",
     "text": [
      "{0: 'Xyl', 1: 'Gal', 2: 'Xyl', 3: 'Fuc', 4: 'Gal', 5: 'Xyl', 6: 'Xyl', 7: 'Glc', 8: 'Glc', 9: 'Glc', 10: 'Glc', 11: 'Glc'}\n",
      "Key Monomer is Xyl\n"
     ]
    },
    {
     "data": {
      "image/png": "[encoded data removed]",
      "text/plain": [
       "<Figure size 432x288 with 1 Axes>"
      ]
     },
     "metadata": {},
     "output_type": "display_data"
    }
   ],
   "source": [
    "attribution.plot_graph(\n",
    "    input_graph = input_graph, \n",
    "    NX_GRAPHS = NX_GRAPHS)"
   ]
  },
  {
   "cell_type": "code",
   "execution_count": 18,
   "id": "e6a2dbaa",
   "metadata": {},
   "outputs": [
    {
     "name": "stdout",
     "output_type": "stream",
     "text": [
      "0 Xyl\n",
      "Key Substructure in Xyl 16\n"
     ]
    },
    {
     "data": {
      "image/png": "[encoded data removed]",
      "text/plain": [
       "<Figure size 432x288 with 2 Axes>"
      ]
     },
     "metadata": {
      "needs_background": "light"
     },
     "output_type": "display_data"
    }
   ],
   "source": [
    "attribution.plot_fp(node_idx=0)"
   ]
  },
  {
   "cell_type": "code",
   "execution_count": 20,
   "id": "7b5dcf24",
   "metadata": {},
   "outputs": [
    {
     "data": {
      "image/png": "[encoded data removed]",
      "text/plain": [
       "<PIL.PngImagePlugin.PngImageFile image mode=RGB size=150x150 at 0x7F1E444DCB00>"
      ]
     },
     "execution_count": 20,
     "metadata": {},
     "output_type": "execute_result"
    }
   ],
   "source": [
    "index = 16\n",
    "mol, bi = attribution.display_substructure(\n",
    "    monomer = 'Xyl', \n",
    "    MON_SMILES_PATH = MON_SMILES, \n",
    "    RADIUS = FP_RADIUS_MON, \n",
    "    N_BITS = FP_BITS_MON)\n",
    "Draw.DrawMorganBit(mol, index, bi)"
   ]
  }
 ],
 "metadata": {
  "kernelspec": {
   "display_name": "Python 3",
   "language": "python",
   "name": "python3"
  },
  "language_info": {
   "codemirror_mode": {
    "name": "ipython",
    "version": 3
   },
   "file_extension": ".py",
   "mimetype": "text/x-python",
   "name": "python",
   "nbconvert_exporter": "python",
   "pygments_lexer": "ipython3",
   "version": "3.6.12"
  }
 },
 "nbformat": 4,
 "nbformat_minor": 5
}
