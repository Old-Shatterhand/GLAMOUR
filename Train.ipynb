{
 "cells": [
  {
   "cell_type": "code",
   "execution_count": 1,
   "id": "fresh-packet",
   "metadata": {},
   "outputs": [
    {
     "name": "stderr",
     "output_type": "stream",
     "text": [
      "/home/daniel/miniconda3/envs/glamour/lib/python3.11/site-packages/tqdm/auto.py:21: TqdmWarning: IProgress not found. Please update jupyter and ipywidgets. See https://ipywidgets.readthedocs.io/en/stable/user_install.html\n",
      "  from .autonotebook import tqdm as notebook_tqdm\n"
     ]
    }
   ],
   "source": [
    "import os\n",
    "os.environ['CUDA_VISIBLE_DEVICES'] = \"0\"\n",
    "\n",
    "import random\n",
    "from rdkit import Chem\n",
    "from rdkit.Chem import Draw\n",
    "from rdkit.Chem.Draw import IPythonConsole\n",
    "\n",
    "from utils.load_networkx import networkx_feat\n",
    "from utils.macro_dataset import MacroDataset\n",
    "from utils import macro_unsupervised as unsup\n",
    "from utils.macro_supervised import MacroSupervised\n",
    "from utils.macro_attribution import Attribution\n",
    "from utils import plot"
   ]
  },
  {
   "cell_type": "markdown",
   "id": "coated-thesis",
   "metadata": {},
   "source": [
    "**Filepaths**"
   ]
  },
  {
   "cell_type": "markdown",
   "id": "crucial-thought",
   "metadata": {},
   "source": [
    "MON_SMILES : .csv or .txt file of macromolecule monomers\n",
    "<br>\n",
    "BOND_SMILES : .csv or .txt file of macromolecule bonds\n",
    "\n",
    "TXT_DATA_PATH : For dataset, to be used for training\n",
    "<br>\n",
    "DF_PATH : For dataset, to be used for graph labels during training\n",
    "<br>\n",
    "MODEL_PATH : For models, to be used when training to save the model, optimizer, and configuration file\n",
    "<br>\n",
    "FIG_PATH : For plots, to be used when saving ROC-AUC or parity plot figures"
   ]
  },
  {
   "cell_type": "code",
   "execution_count": 2,
   "id": "failing-commitment",
   "metadata": {},
   "outputs": [],
   "source": [
    "MON_SMILES = '../GIFFLAR/taxonomy_Domain/monos.txt'\n",
    "BOND_SMILES = '../GIFFLAR/taxonomy_Domain/bonds.txt'\n",
    "\n",
    "TXT_DATA_PATH = '../GIFFLAR/taxonomy_Domain/graphs/'\n",
    "DF_PATH = '../GIFFLAR/taxonomy_Domain/multilabel.txt'\n",
    "MODEL_PATH = '../GIFFLAR/taxonomy_Domain/'\n",
    "FIG_PATH = '../GIFFLAR/taxonomy_Domain/'"
   ]
  },
  {
   "cell_type": "markdown",
   "id": "extra-dependence",
   "metadata": {},
   "source": [
    "**Variables**"
   ]
  },
  {
   "cell_type": "markdown",
   "id": "second-variety",
   "metadata": {},
   "source": [
    "FEAT : Type of features for macromolecule monomers and bonds -- fingerprints ('fp') or one-hot encodings ('onehot') (default = 'fp')\n",
    "<br>\n",
    "FP_RADIUS_MON : Radius of topological exploration for monomer fingerprint (default = 3)\n",
    "<br>\n",
    "FP_BITS_MON : Size of fingerprint bit-vector for monomer (default = 128)\n",
    "<br>\n",
    "FP_RADIUS_BOND : Radius of topological exploration for bond fingerprint (default = 3)\n",
    "<br>\n",
    "FP_BITS_BOND : Size of fingerprint bit-vector for bond (default = 16)\n",
    "\n",
    "SEED : Random seed for shuffling dataset (default = 108)\n",
    "<br>\n",
    "TASK : Learning task (classification, regression) (default = 'classification')\n",
    "<br>\n",
    "MODEL : Model architecture for supervised learning (Weave, MPNN, Attentive FP, GCN, GAT) (default = 'Weave')\n",
    "<br>\n",
    "LABELNAME : Name of label to classify (default = 'Immunogenic')\n",
    "<br>\n",
    "SPLIT : Proportion of the dataset to use for training, validation and test (default = '0.8,0.1,0.1')\n",
    "<br>\n",
    "NORM: Normalization method for regression labels -- quantile transform ('qt') or standard scaler ('ss') (default = 'qt')\n",
    "\n",
    "NUM_EPOCHS: Maximum number of epochs allowed for training (default = 1000)\n",
    "<br>\n",
    "NUM_WORKERS: Number of processes for data loading (default: 1)\n",
    "\n",
    "SAVE_MODEL: Whether to save full model file. Model state dict will be saved automatically (default = False)\n",
    "<br>\n",
    "SAVE_OPT: Whether to save optimizer files (default = False)\n",
    "<br>\n",
    "SAVE_CONFIG: Whether to save configuration file (default = False)\n",
    "\n",
    "PLOT_TYPE: Dataset to plot ('val' for validation or 'test' for test)\n",
    "\n",
    "CUSTOM_PARAMS: Dictionary of hyperparameters for model"
   ]
  },
  {
   "cell_type": "code",
   "execution_count": 3,
   "id": "hollywood-royalty",
   "metadata": {},
   "outputs": [],
   "source": [
    "FEAT = 'fp'\n",
    "FP_RADIUS_MON = 3\n",
    "FP_BITS_MON = 128\n",
    "FP_RADIUS_BOND = 3\n",
    "FP_BITS_BOND = 16\n",
    "\n",
    "SEED = 108\n",
    "TASK = 'classification'\n",
    "MODEL = 'AttentiveFP'\n",
    "LABELNAME = 'Domain'\n",
    "SPLIT = '0.6,0.2,0.2'\n",
    "NORM = 'qt'\n",
    "\n",
    "NUM_EPOCHS = 10\n",
    "NUM_WORKERS = 1\n",
    "\n",
    "SAVE_MODEL = False\n",
    "SAVE_OPT = False\n",
    "SAVE_CONFIG = False\n",
    "\n",
    "PLOT_TYPE = 'val'\n",
    "\n",
    "CUSTOM_PARAMS = {}"
   ]
  },
  {
   "cell_type": "markdown",
   "id": "sunrise-devon",
   "metadata": {},
   "source": [
    "**Load featurized NetworkX graphs**"
   ]
  },
  {
   "cell_type": "code",
   "execution_count": 4,
   "id": "255e72cc-8ef9-4eea-bcbe-1ff042afe6be",
   "metadata": {},
   "outputs": [],
   "source": [
    "NX_GRAPHS = networkx_feat(\n",
    "    TXT_DATA_PATH = TXT_DATA_PATH, \n",
    "    MON_SMILES = MON_SMILES, \n",
    "    BOND_SMILES = BOND_SMILES, \n",
    "    FEAT = FEAT, \n",
    "    FP_RADIUS_MON = FP_RADIUS_MON, \n",
    "    FP_RADIUS_BOND = FP_RADIUS_BOND, \n",
    "    FP_BITS_MON = FP_BITS_MON, \n",
    "    FP_BITS_BOND = FP_BITS_BOND\n",
    ")"
   ]
  },
  {
   "cell_type": "markdown",
   "id": "capital-chess",
   "metadata": {},
   "source": [
    "**Load DGL dataset with labels and masks**"
   ]
  },
  {
   "cell_type": "code",
   "execution_count": 5,
   "id": "logical-history",
   "metadata": {},
   "outputs": [],
   "source": [
    "dgl_dict = MacroDataset(\n",
    "    DF_PATH = DF_PATH, \n",
    "    SEED = SEED, \n",
    "    TASK = TASK, \n",
    "    LABELNAME = LABELNAME, \n",
    "    MODEL = MODEL, \n",
    "    NX_GRAPHS = NX_GRAPHS, \n",
    "    NORM = NORM)"
   ]
  },
  {
   "cell_type": "markdown",
   "id": "specific-overall",
   "metadata": {},
   "source": [
    "#### Supervised learning \n",
    "Training model and obtaining validation and test metrics"
   ]
  },
  {
   "cell_type": "code",
   "execution_count": 6,
   "id": "cultural-situation",
   "metadata": {},
   "outputs": [
    {
     "name": "stdout",
     "output_type": "stream",
     "text": [
      "Directory ../GIFFLAR/taxonomy_Domain/ already exists.\n"
     ]
    }
   ],
   "source": [
    "random.seed(SEED)\n",
    "\n",
    "macro_supervised = MacroSupervised(\n",
    "    MacroDataset = dgl_dict, \n",
    "    MON_SMILES = MON_SMILES, \n",
    "    BOND_SMILES = BOND_SMILES, \n",
    "    FEAT = FEAT, \n",
    "    FP_BITS_MON = FP_BITS_MON, \n",
    "    FP_BITS_BOND = FP_BITS_BOND, \n",
    "    SEED = SEED, \n",
    "    MODEL = MODEL, \n",
    "    SPLIT = SPLIT, \n",
    "    NUM_EPOCHS = NUM_EPOCHS, \n",
    "    NUM_WORKERS = NUM_WORKERS, \n",
    "    CUSTOM_PARAMS = CUSTOM_PARAMS, \n",
    "    MODEL_PATH = MODEL_PATH, \n",
    "    SAVE_MODEL = SAVE_MODEL, \n",
    "    SAVE_OPT = SAVE_OPT, \n",
    "    SAVE_CONFIG = SAVE_CONFIG)"
   ]
  },
  {
   "cell_type": "code",
   "execution_count": 7,
   "id": "overhead-steering",
   "metadata": {},
   "outputs": [
    {
     "name": "stdout",
     "output_type": "stream",
     "text": [
      "epoch 1/10, batch 1/66, loss 1.6203\n",
      "epoch 1/10, batch 21/66, loss 0.5807\n",
      "epoch 1/10, batch 41/66, loss 0.4372\n",
      "epoch 1/10, batch 61/66, loss 0.4522\n",
      "epoch 1/10, validation loss 0.3671, best validation loss 0.3671, validation ROC-AUC 0.9695, validation F1 0.7021, validation recall 0.9834, validation precision 0.5460, validation accuracy 0.1903\n",
      "epoch 2/10, batch 1/66, loss 0.3683\n",
      "epoch 2/10, batch 21/66, loss 0.3778\n",
      "epoch 2/10, batch 41/66, loss 0.4417\n",
      "epoch 2/10, batch 61/66, loss 0.3692\n",
      "epoch 2/10, validation loss 0.2992, best validation loss 0.2992, validation ROC-AUC 0.9821, validation F1 0.6834, validation recall 0.9912, validation precision 0.5214, validation accuracy 0.0970\n",
      "epoch 3/10, batch 1/66, loss 0.3293\n",
      "epoch 3/10, batch 21/66, loss 0.2768\n",
      "epoch 3/10, batch 41/66, loss 0.3187\n",
      "epoch 3/10, batch 61/66, loss 0.3134\n",
      "epoch 3/10, validation loss 0.2798, best validation loss 0.2798, validation ROC-AUC 0.9852, validation F1 0.6742, validation recall 0.9925, validation precision 0.5105, validation accuracy 0.0699\n",
      "epoch 4/10, batch 1/66, loss 0.2465\n",
      "epoch 4/10, batch 21/66, loss 0.2234\n",
      "epoch 4/10, batch 41/66, loss 0.2790\n",
      "epoch 4/10, batch 61/66, loss 0.3117\n",
      "epoch 4/10, validation loss 0.2668, best validation loss 0.2668, validation ROC-AUC 0.9865, validation F1 0.6812, validation recall 0.9921, validation precision 0.5186, validation accuracy 0.0877\n",
      "epoch 5/10, batch 1/66, loss 0.3130\n",
      "epoch 5/10, batch 21/66, loss 0.2334\n",
      "epoch 5/10, batch 41/66, loss 0.3178\n",
      "epoch 5/10, batch 61/66, loss 0.2689\n",
      "epoch 5/10, validation loss 0.2465, best validation loss 0.2465, validation ROC-AUC 0.9874, validation F1 0.6898, validation recall 0.9911, validation precision 0.5289, validation accuracy 0.1269\n",
      "epoch 6/10, batch 1/66, loss 0.2912\n",
      "epoch 6/10, batch 21/66, loss 0.2411\n",
      "epoch 6/10, batch 41/66, loss 0.2768\n",
      "epoch 6/10, batch 61/66, loss 0.2693\n",
      "epoch 6/10, validation loss 0.2403, best validation loss 0.2403, validation ROC-AUC 0.9873, validation F1 0.6895, validation recall 0.9930, validation precision 0.5281, validation accuracy 0.1340\n",
      "epoch 7/10, batch 1/66, loss 0.1780\n",
      "epoch 7/10, batch 21/66, loss 0.3234\n",
      "epoch 7/10, batch 41/66, loss 0.2906\n",
      "epoch 7/10, batch 61/66, loss 0.2811\n",
      "epoch 7/10, validation loss 0.2389, best validation loss 0.2389, validation ROC-AUC 0.9871, validation F1 0.6921, validation recall 0.9927, validation precision 0.5312, validation accuracy 0.1374\n",
      "epoch 8/10, batch 1/66, loss 0.2148\n",
      "epoch 8/10, batch 21/66, loss 0.1821\n",
      "epoch 8/10, batch 41/66, loss 0.1986\n",
      "epoch 8/10, batch 61/66, loss 0.2849\n",
      "epoch 8/10, validation loss 0.2330, best validation loss 0.2330, validation ROC-AUC 0.9872, validation F1 0.7021, validation recall 0.9918, validation precision 0.5434, validation accuracy 0.1746\n",
      "epoch 9/10, batch 1/66, loss 0.3179\n",
      "epoch 9/10, batch 21/66, loss 0.1856\n",
      "epoch 9/10, batch 41/66, loss 0.1902\n",
      "epoch 9/10, batch 61/66, loss 0.1828\n",
      "EarlyStopping counter: 1 out of 30\n",
      "epoch 9/10, validation loss 0.2391, best validation loss 0.2330, validation ROC-AUC 0.9841, validation F1 0.6924, validation recall 0.9925, validation precision 0.5316, validation accuracy 0.1383\n",
      "epoch 10/10, batch 1/66, loss 0.1869\n",
      "epoch 10/10, batch 21/66, loss 0.1840\n",
      "epoch 10/10, batch 41/66, loss 0.2644\n",
      "epoch 10/10, batch 61/66, loss 0.1810\n",
      "epoch 10/10, validation loss 0.2229, best validation loss 0.2229, validation ROC-AUC 0.9871, validation F1 0.6882, validation recall 0.9941, validation precision 0.5263, validation accuracy 0.1197\n",
      "best val loss 0.2229, best val ROC-AUC 0.9871, best val F1 0.6882, best val recall 0.9941, best val precision 0.5263, best val accuracy 0.1197\n",
      "best val loss 0.2116, best val ROC-AUC 0.9876, best val F1 0.6891, best val recall 0.9937, best val precision 0.5274, best val accuracy 0.1261\n",
      "\n",
      "Best Validation Metrics:\n",
      "ROC-AUC 0.9871\n",
      "F1 0.6882\n",
      "recall 0.9941\n",
      "precision 0.5263\n",
      "accuracy 0.1197\n",
      "\n",
      "Test Metrics:\n",
      "ROC-AUC 0.9876\n",
      "F1 0.6891\n",
      "recall 0.9937\n",
      "precision 0.5274\n",
      "accuracy 0.1261\n"
     ]
    }
   ],
   "source": [
    "macro_supervised.main()"
   ]
  },
  {
   "cell_type": "code",
   "execution_count": 8,
   "id": "13aad210",
   "metadata": {},
   "outputs": [
    {
     "name": "stderr",
     "output_type": "stream",
     "text": [
      "findfont: Generic family 'sans-serif' not found because none of the following families were found: Arial\n",
      "findfont: Generic family 'sans-serif' not found because none of the following families were found: Arial\n",
      "findfont: Generic family 'sans-serif' not found because none of the following families were found: Arial\n",
      "findfont: Generic family 'sans-serif' not found because none of the following families were found: Arial\n",
      "findfont: Generic family 'sans-serif' not found because none of the following families were found: Arial\n",
      "findfont: Generic family 'sans-serif' not found because none of the following families were found: Arial\n",
      "findfont: Generic family 'sans-serif' not found because none of the following families were found: Arial\n",
      "findfont: Generic family 'sans-serif' not found because none of the following families were found: Arial\n",
      "findfont: Generic family 'sans-serif' not found because none of the following families were found: Arial\n",
      "findfont: Generic family 'sans-serif' not found because none of the following families were found: Arial\n",
      "findfont: Generic family 'sans-serif' not found because none of the following families were found: Arial\n",
      "findfont: Generic family 'sans-serif' not found because none of the following families were found: Arial\n",
      "findfont: Generic family 'sans-serif' not found because none of the following families were found: Arial\n",
      "findfont: Generic family 'sans-serif' not found because none of the following families were found: Arial\n",
      "findfont: Generic family 'sans-serif' not found because none of the following families were found: Arial\n",
      "findfont: Generic family 'sans-serif' not found because none of the following families were found: Arial\n",
      "findfont: Generic family 'sans-serif' not found because none of the following families were found: Arial\n",
      "findfont: Generic family 'sans-serif' not found because none of the following families were found: Arial\n",
      "findfont: Generic family 'sans-serif' not found because none of the following families were found: Arial\n",
      "findfont: Generic family 'sans-serif' not found because none of the following families were found: Arial\n",
      "findfont: Generic family 'sans-serif' not found because none of the following families were found: Arial\n",
      "findfont: Generic family 'sans-serif' not found because none of the following families were found: Arial\n",
      "findfont: Generic family 'sans-serif' not found because none of the following families were found: Arial\n",
      "findfont: Generic family 'sans-serif' not found because none of the following families were found: Arial\n",
      "findfont: Generic family 'sans-serif' not found because none of the following families were found: Arial\n",
      "findfont: Generic family 'sans-serif' not found because none of the following families were found: Arial\n",
      "findfont: Generic family 'sans-serif' not found because none of the following families were found: Arial\n",
      "findfont: Generic family 'sans-serif' not found because none of the following families were found: Arial\n",
      "findfont: Generic family 'sans-serif' not found because none of the following families were found: Arial\n",
      "findfont: Generic family 'sans-serif' not found because none of the following families were found: Arial\n",
      "findfont: Generic family 'sans-serif' not found because none of the following families were found: Arial\n",
      "findfont: Generic family 'sans-serif' not found because none of the following families were found: Arial\n",
      "findfont: Generic family 'sans-serif' not found because none of the following families were found: Arial\n",
      "findfont: Generic family 'sans-serif' not found because none of the following families were found: Arial\n",
      "findfont: Generic family 'sans-serif' not found because none of the following families were found: Arial\n",
      "findfont: Generic family 'sans-serif' not found because none of the following families were found: Arial\n",
      "findfont: Generic family 'sans-serif' not found because none of the following families were found: Arial\n"
     ]
    },
    {
     "data": {
      "image/png": "[encoded data removed]",
      "text/plain": [
       "<Figure size 640x480 with 1 Axes>"
      ]
     },
     "metadata": {},
     "output_type": "display_data"
    },
    {
     "data": {
      "text/plain": [
       "<Figure size 640x480 with 0 Axes>"
      ]
     },
     "metadata": {},
     "output_type": "display_data"
    }
   ],
   "source": [
    "macro_supervised.rocauc_plot('test', './')"
   ]
  }
 ],
 "metadata": {
  "kernelspec": {
   "display_name": "Python 3 (ipykernel)",
   "language": "python",
   "name": "python3"
  },
  "language_info": {
   "codemirror_mode": {
    "name": "ipython",
    "version": 3
   },
   "file_extension": ".py",
   "mimetype": "text/x-python",
   "name": "python",
   "nbconvert_exporter": "python",
   "pygments_lexer": "ipython3",
   "version": "3.11.8"
  }
 },
 "nbformat": 4,
 "nbformat_minor": 5
}
